{
 "cells": [
  {
   "cell_type": "markdown",
   "id": "28ab7f74",
   "metadata": {},
   "source": [
    "# <font color='blue'>Banco de Dados Não Relacional</font>\n",
    "## <font color='blue'>Projeto Final - Script Python para Ingestão de Dados </font>\n",
    "### <font color='blue'>Rafael Guiselli Felippe</font>"
   ]
  },
  {
   "cell_type": "markdown",
   "id": "e27a47b2",
   "metadata": {},
   "source": [
    "## Estratégia da Solução\n",
    "\n",
    "- **1**. Criação das tabelas de dimensão no SQL Server\n",
    "- **2**. Carregar o arquivo JSON para o MongoDB\n",
    "- **3**. Realizar as transformações necessárias\n",
    "- **4**. Disponibilizar o arquivo estruturado em uma tabela no SQL Server"
   ]
  },
  {
   "cell_type": "code",
   "execution_count": 1,
   "id": "069b9872",
   "metadata": {},
   "outputs": [],
   "source": [
    "# Bibliotecas necessárias\n",
    "import json\n",
    "import pandas as pd\n",
    "import pymongo\n",
    "import pyodbc"
   ]
  },
  {
   "cell_type": "markdown",
   "id": "c8804cc9",
   "metadata": {},
   "source": [
    "## 1. Criação das tabelas de dimensão no SQL Server\n",
    "\n",
    "Por se tratar de tabelas com pouca movimentação de dados, elas serão criadas de maneira manual diretamente no SQL Server."
   ]
  },
  {
   "cell_type": "markdown",
   "id": "2a51e12e",
   "metadata": {},
   "source": [
    "## 2. Carregar o arquivo JSON para o MongoDB"
   ]
  },
  {
   "cell_type": "code",
   "execution_count": 2,
   "id": "874f9a4e",
   "metadata": {},
   "outputs": [
    {
     "name": "stdout",
     "output_type": "stream",
     "text": [
      "Banco de dados 'FabricaDB' criado com sucesso.\n",
      "Coleção 'dados_sensores' criada com sucesso.\n",
      "Documentos inseridos com sucesso.\n"
     ]
    }
   ],
   "source": [
    "# Conexao ao MongoDB\n",
    "conexao = pymongo.MongoClient(\"mongodb://localhost:27017/\")\n",
    "\n",
    "# Definindo o banco de dados\n",
    "database = \"FabricaDB\"\n",
    "\n",
    "if database in conexao.list_database_names():\n",
    "    db = conexao[database]\n",
    "    print(f\"Conectado ao banco de dados '{database}'.\")\n",
    "else:\n",
    "    db = conexao[database]\n",
    "    print(f\"Banco de dados '{database}' criado com sucesso.\")\n",
    "\n",
    "# Definindo a coleção      \n",
    "colecao = \"dados_sensores\"\n",
    "\n",
    "if colecao in db.list_collection_names():\n",
    "    db[colecao].delete_many({})\n",
    "    print(f\"Documentos existentes removidos da coleção '{colecao}'.\")\n",
    "else:\n",
    "    db.create_collection(colecao)\n",
    "    print(f\"Coleção '{colecao}' criada com sucesso.\")\n",
    "\n",
    "# Carregando o arquivo JSON\n",
    "caminhoJSON = \"Dados/dados_sensores.json\"\n",
    "json_dados = []\n",
    "\n",
    "with open(caminhoJSON, \"r\", encoding = \"utf-8\") as arquivo:\n",
    "    for linha in arquivo:\n",
    "        json_dados.append(json.loads(linha))\n",
    "\n",
    "# Inserindo os dados no MongoDB\n",
    "resulto = db[colecao].insert_many(json_dados)\n",
    "print(\"Documentos inseridos com sucesso.\")"
   ]
  },
  {
   "cell_type": "markdown",
   "id": "9dc57bed",
   "metadata": {},
   "source": [
    "## 3. Realizar as transformações necessárias"
   ]
  },
  {
   "cell_type": "markdown",
   "id": "6195adb0",
   "metadata": {},
   "source": [
    "Nesta etapa, vou realizar a conversão do arquivo JSON para um DataFrame do Pandas e efetuar a transformação da coluna de timestamp."
   ]
  },
  {
   "cell_type": "code",
   "execution_count": 3,
   "id": "b325b09b",
   "metadata": {},
   "outputs": [
    {
     "data": {
      "text/html": [
       "<div>\n",
       "<style scoped>\n",
       "    .dataframe tbody tr th:only-of-type {\n",
       "        vertical-align: middle;\n",
       "    }\n",
       "\n",
       "    .dataframe tbody tr th {\n",
       "        vertical-align: top;\n",
       "    }\n",
       "\n",
       "    .dataframe thead th {\n",
       "        text-align: right;\n",
       "    }\n",
       "</style>\n",
       "<table border=\"1\" class=\"dataframe\">\n",
       "  <thead>\n",
       "    <tr style=\"text-align: right;\">\n",
       "      <th></th>\n",
       "      <th>_id</th>\n",
       "      <th>sensor_id</th>\n",
       "      <th>time</th>\n",
       "      <th>leitura</th>\n",
       "    </tr>\n",
       "  </thead>\n",
       "  <tbody>\n",
       "    <tr>\n",
       "      <th>0</th>\n",
       "      <td>6568b78af694d88154454b90</td>\n",
       "      <td>1</td>\n",
       "      <td>1512099000000</td>\n",
       "      <td>14.9287</td>\n",
       "    </tr>\n",
       "    <tr>\n",
       "      <th>1</th>\n",
       "      <td>6568b78af694d88154454b91</td>\n",
       "      <td>2</td>\n",
       "      <td>1512099000000</td>\n",
       "      <td>10.8688</td>\n",
       "    </tr>\n",
       "    <tr>\n",
       "      <th>2</th>\n",
       "      <td>6568b78af694d88154454b92</td>\n",
       "      <td>3</td>\n",
       "      <td>1512099000000</td>\n",
       "      <td>14.3780</td>\n",
       "    </tr>\n",
       "    <tr>\n",
       "      <th>3</th>\n",
       "      <td>6568b78af694d88154454b93</td>\n",
       "      <td>4</td>\n",
       "      <td>1512099000000</td>\n",
       "      <td>11.2780</td>\n",
       "    </tr>\n",
       "    <tr>\n",
       "      <th>4</th>\n",
       "      <td>6568b78af694d88154454b94</td>\n",
       "      <td>1</td>\n",
       "      <td>1512099060000</td>\n",
       "      <td>12.5301</td>\n",
       "    </tr>\n",
       "  </tbody>\n",
       "</table>\n",
       "</div>"
      ],
      "text/plain": [
       "                        _id  sensor_id           time  leitura\n",
       "0  6568b78af694d88154454b90          1  1512099000000  14.9287\n",
       "1  6568b78af694d88154454b91          2  1512099000000  10.8688\n",
       "2  6568b78af694d88154454b92          3  1512099000000  14.3780\n",
       "3  6568b78af694d88154454b93          4  1512099000000  11.2780\n",
       "4  6568b78af694d88154454b94          1  1512099060000  12.5301"
      ]
     },
     "execution_count": 3,
     "metadata": {},
     "output_type": "execute_result"
    }
   ],
   "source": [
    "# Criando o DataFrame\n",
    "\n",
    "# Local de armazenamento do arquivo\n",
    "bancoDB = conexao[\"FabricaDB\"]  \n",
    "colecaoDB = bancoDB[\"dados_sensores\"]\n",
    "\n",
    "# Obtendo os documentos da coleção\n",
    "documentos = colecaoDB.find()\n",
    "\n",
    "# Convertendo os documentos para uma lista\n",
    "dados = list(documentos)\n",
    "\n",
    "# Imprimindo o resultado\n",
    "df = pd.DataFrame(dados)\n",
    "df.head()"
   ]
  },
  {
   "cell_type": "code",
   "execution_count": 4,
   "id": "596351d8",
   "metadata": {},
   "outputs": [
    {
     "data": {
      "text/html": [
       "<div>\n",
       "<style scoped>\n",
       "    .dataframe tbody tr th:only-of-type {\n",
       "        vertical-align: middle;\n",
       "    }\n",
       "\n",
       "    .dataframe tbody tr th {\n",
       "        vertical-align: top;\n",
       "    }\n",
       "\n",
       "    .dataframe thead th {\n",
       "        text-align: right;\n",
       "    }\n",
       "</style>\n",
       "<table border=\"1\" class=\"dataframe\">\n",
       "  <thead>\n",
       "    <tr style=\"text-align: right;\">\n",
       "      <th></th>\n",
       "      <th>_id</th>\n",
       "      <th>sensor_id</th>\n",
       "      <th>data</th>\n",
       "      <th>hora</th>\n",
       "      <th>leitura</th>\n",
       "    </tr>\n",
       "  </thead>\n",
       "  <tbody>\n",
       "    <tr>\n",
       "      <th>0</th>\n",
       "      <td>6568b78af694d88154454b90</td>\n",
       "      <td>1</td>\n",
       "      <td>2017-12-01</td>\n",
       "      <td>03:30:00</td>\n",
       "      <td>14.9287</td>\n",
       "    </tr>\n",
       "    <tr>\n",
       "      <th>1</th>\n",
       "      <td>6568b78af694d88154454b91</td>\n",
       "      <td>2</td>\n",
       "      <td>2017-12-01</td>\n",
       "      <td>03:30:00</td>\n",
       "      <td>10.8688</td>\n",
       "    </tr>\n",
       "    <tr>\n",
       "      <th>2</th>\n",
       "      <td>6568b78af694d88154454b92</td>\n",
       "      <td>3</td>\n",
       "      <td>2017-12-01</td>\n",
       "      <td>03:30:00</td>\n",
       "      <td>14.3780</td>\n",
       "    </tr>\n",
       "    <tr>\n",
       "      <th>3</th>\n",
       "      <td>6568b78af694d88154454b93</td>\n",
       "      <td>4</td>\n",
       "      <td>2017-12-01</td>\n",
       "      <td>03:30:00</td>\n",
       "      <td>11.2780</td>\n",
       "    </tr>\n",
       "    <tr>\n",
       "      <th>4</th>\n",
       "      <td>6568b78af694d88154454b94</td>\n",
       "      <td>1</td>\n",
       "      <td>2017-12-01</td>\n",
       "      <td>03:31:00</td>\n",
       "      <td>12.5301</td>\n",
       "    </tr>\n",
       "  </tbody>\n",
       "</table>\n",
       "</div>"
      ],
      "text/plain": [
       "                        _id  sensor_id        data      hora  leitura\n",
       "0  6568b78af694d88154454b90          1  2017-12-01  03:30:00  14.9287\n",
       "1  6568b78af694d88154454b91          2  2017-12-01  03:30:00  10.8688\n",
       "2  6568b78af694d88154454b92          3  2017-12-01  03:30:00  14.3780\n",
       "3  6568b78af694d88154454b93          4  2017-12-01  03:30:00  11.2780\n",
       "4  6568b78af694d88154454b94          1  2017-12-01  03:31:00  12.5301"
      ]
     },
     "execution_count": 4,
     "metadata": {},
     "output_type": "execute_result"
    }
   ],
   "source": [
    "# Conversão da coluna \"time\"\n",
    "df['time'] = pd.to_datetime(df['time'], unit = 'ms')\n",
    "\n",
    "# Separando as informações em novas colunas\n",
    "df['data'] = df['time'].dt.date\n",
    "df['hora'] = df['time'].dt.time\n",
    "\n",
    "# Reordenando as colunas\n",
    "df_final = df[['_id', 'sensor_id', 'data', 'hora', 'leitura']]\n",
    "\n",
    "# Imprimindo o resultado\n",
    "df_final.head()"
   ]
  },
  {
   "cell_type": "markdown",
   "id": "d74c7b74",
   "metadata": {},
   "source": [
    "## 4. Disponibilizar o arquivo estruturado em uma tabela no SQL Server"
   ]
  },
  {
   "cell_type": "code",
   "execution_count": 5,
   "id": "7c99ad36",
   "metadata": {},
   "outputs": [],
   "source": [
    "# Conectando ao SQL Server\n",
    "\n",
    "# Definindo o servidor e o banco de dados\n",
    "server = 'DESKTOP-JTQE1FU'\n",
    "banco = 'Fabrica'\n",
    "\n",
    "# String de conexão\n",
    "connection_string = f'Driver={{ODBC Driver 17 for SQL Server}};Server={server};DATABASE={banco};Trusted_Connection=yes'\n",
    "\n",
    "# Realizando a conexão\n",
    "conn = pyodbc.connect(connection_string)"
   ]
  },
  {
   "cell_type": "code",
   "execution_count": 6,
   "id": "55d32326",
   "metadata": {},
   "outputs": [
    {
     "name": "stdout",
     "output_type": "stream",
     "text": [
      "Dados inseridos na 'tb_fato_sensores' com sucesso.\n"
     ]
    }
   ],
   "source": [
    "# Inserção dos dados no SQL Server\n",
    "\n",
    "# Criando um cursor\n",
    "cursor = conn.cursor()\n",
    "\n",
    "# Definindo o nome da tabela\n",
    "nome_tabela = 'tb_fato_sensores'\n",
    "\n",
    "# Query para verificação da existência da tabela\n",
    "verifica_tabela = f\"\"\"\n",
    "IF OBJECT_ID('{nome_tabela}', 'U') IS NOT NULL\n",
    "    DROP TABLE {nome_tabela};\n",
    "\"\"\"\n",
    "\n",
    "# Executando a query\n",
    "cursor.execute(verifica_tabela)\n",
    "\n",
    "# Query para criação da tabela\n",
    "cria_tabela = f\"\"\"\n",
    "CREATE TABLE {nome_tabela} (\n",
    "    _id VARCHAR(24),\n",
    "    sensor_id INT,\n",
    "    data DATE,\n",
    "    hora VARCHAR(8),\n",
    "    leitura FLOAT\n",
    ");\n",
    "\"\"\"\n",
    "\n",
    "# Executando a query\n",
    "cursor.execute(cria_tabela)\n",
    "\n",
    "# Inserção dos dados\n",
    "for indice, linha in df_final.iterrows():\n",
    "    cursor.execute(f\"\"\"\n",
    "    INSERT INTO {nome_tabela} (_id, sensor_id, data, hora, leitura)\n",
    "    VALUES (?, ?, ?, ?, ?)\n",
    "    \"\"\", str(linha['_id']), linha['sensor_id'], pd.to_datetime(linha['data']).date(), linha['hora'], linha['leitura'])\n",
    "\n",
    "# Aplicando as alterações\n",
    "conn.commit()\n",
    "\n",
    "# Fechando a conexão\n",
    "conn.close()\n",
    "print(f\"Dados inseridos na '{nome_tabela}' com sucesso.\")"
   ]
  }
 ],
 "metadata": {
  "kernelspec": {
   "display_name": "Python 3 (ipykernel)",
   "language": "python",
   "name": "python3"
  },
  "language_info": {
   "codemirror_mode": {
    "name": "ipython",
    "version": 3
   },
   "file_extension": ".py",
   "mimetype": "text/x-python",
   "name": "python",
   "nbconvert_exporter": "python",
   "pygments_lexer": "ipython3",
   "version": "3.9.12"
  }
 },
 "nbformat": 4,
 "nbformat_minor": 5
}
